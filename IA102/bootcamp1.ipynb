{
 "cells": [
  {
   "cell_type": "markdown",
   "metadata": {},
   "source": [
    "# Tradutor Azure\n",
    "\n",
    "Este notebook será composto pela implementação de duas funções com a finalidade de colocar em prática conteúdos sobre as ferramentas de processamento de linguagem natural da Azure.\n",
    "\n",
    "Primeiramente será implementada a funcionalidade de tradução, onde um documento Word(.docx) em inglês servirá de entrada para que, utilizando serviço azure, seja traduzido para o português-br.\n",
    "\n",
    "Outrossim, será testado, além da tradução, a extração de um texto da internet e o formantando via markdown apartir de um chatbox usando gpt4 mini.\n"
   ]
  },
  {
   "cell_type": "markdown",
   "metadata": {},
   "source": [
    "### Traduzir o Texto"
   ]
  },
  {
   "cell_type": "code",
   "execution_count": 1,
   "metadata": {},
   "outputs": [],
   "source": [
    "import requests\n",
    "from docx import Document \n",
    "import uuid"
   ]
  },
  {
   "cell_type": "code",
   "execution_count": 2,
   "metadata": {},
   "outputs": [],
   "source": [
    "endpoint = \"https://api.cognitive.microsofttranslator.com/\"\n",
    "path = \"/translate\"\n",
    "constructed_url = endpoint + path"
   ]
  },
  {
   "cell_type": "code",
   "execution_count": 3,
   "metadata": {},
   "outputs": [],
   "source": [
    "autentication_key = \"FOjxid7pey3CitXQaukXcAYwem4fu24uNp5GDKIAyPPi4APcv6hAJQQJ99AKACYeBjFXJ3w3AAAbACOGLE6A\"\n",
    "location = \"eastus\"\n",
    "header = {\n",
    "   'Ocp-Apim-Subscription-Key': autentication_key,\n",
    "   'Ocp-Apim-Subscription-Region': location,\n",
    "   'Content-type': 'application/json',\n",
    "   'X-ClientTraceId': str(uuid.uuid4())\n",
    "}"
   ]
  },
  {
   "cell_type": "code",
   "execution_count": 4,
   "metadata": {},
   "outputs": [],
   "source": [
    "params = {\n",
    "   'api-version': '3.0',\n",
    "   'from': 'en',\n",
    "   'to': 'pt-br'\n",
    "}"
   ]
  },
  {
   "cell_type": "code",
   "execution_count": 5,
   "metadata": {},
   "outputs": [],
   "source": [
    "def translate_text(text):\n",
    "   body = [{\n",
    "      'text': text\n",
    "   }]\n",
    "   request = requests.post(url=constructed_url,params=params,headers=header,json=body)\n",
    "   response = request.json()\n",
    "\n",
    "   return response"
   ]
  },
  {
   "cell_type": "code",
   "execution_count": 6,
   "metadata": {},
   "outputs": [],
   "source": [
    "mensage = \"For this reason, embedded development is considered a domain on its own in the universe of software development, in which the developer’s approach and workflow need to be adapted accordingly.\""
   ]
  },
  {
   "cell_type": "code",
   "execution_count": 7,
   "metadata": {},
   "outputs": [
    {
     "name": "stdout",
     "output_type": "stream",
     "text": [
      "[{'translations': [{'text': 'Por esse motivo, o desenvolvimento embarcado é considerado um domínio por si só no universo do desenvolvimento de software, no qual a abordagem e o fluxo de trabalho do desenvolvedor precisam ser adaptados de acordo.', 'to': 'pt'}]}]\n"
     ]
    }
   ],
   "source": [
    "translated_text = translate_text(mensage)\n",
    "print(translated_text)"
   ]
  },
  {
   "cell_type": "markdown",
   "metadata": {},
   "source": [
    "## Traduzir Documento"
   ]
  },
  {
   "cell_type": "code",
   "execution_count": 8,
   "metadata": {},
   "outputs": [],
   "source": [
    "doc_path = \"D:\\Cursos\\DIO\\IA102\\PrefaceEmbeddedSistemsArchitecture.docx\""
   ]
  },
  {
   "cell_type": "code",
   "execution_count": 9,
   "metadata": {},
   "outputs": [],
   "source": [
    "def translate_doc(path):\n",
    "   \n",
    "   document = Document(path)\n",
    "   translated_document = []\n",
    "   for paragraph in document.paragraphs:\n",
    "      translated_paragraph = translate_text(paragraph.text)\n",
    "      translated_document.append(translated_paragraph)\n",
    "   \n",
    "   new_doc = Document()\n",
    "   for line in translated_document:\n",
    "      new_doc.add_paragraph(line[0]['translations'][0]['text'])\n",
    "   path_translated = path.replace(\".docx\",\"_pt_br.docx\")\n",
    "   new_doc.save(path_translated)\n",
    "   \n",
    "   print(\"Tradução Completa\")"
   ]
  },
  {
   "cell_type": "code",
   "execution_count": 10,
   "metadata": {},
   "outputs": [
    {
     "name": "stdout",
     "output_type": "stream",
     "text": [
      "Tradução Completa\n"
     ]
    }
   ],
   "source": [
    "translate_doc(doc_path)"
   ]
  },
  {
   "cell_type": "markdown",
   "metadata": {},
   "source": [
    "## Reescrever Markdown"
   ]
  },
  {
   "cell_type": "code",
   "execution_count": 11,
   "metadata": {},
   "outputs": [],
   "source": [
    "from bs4 import BeautifulSoup\n",
    "from langchain_openai.chat_models.azure import AzureChatOpenAI"
   ]
  },
  {
   "cell_type": "markdown",
   "metadata": {},
   "source": [
    "### Web Scraping"
   ]
  },
  {
   "cell_type": "code",
   "execution_count": 12,
   "metadata": {},
   "outputs": [],
   "source": [
    "url = \"https://dev.to/rose_michelle/beginner-friendly-python-projects-with-source-code-234e\""
   ]
  },
  {
   "cell_type": "code",
   "execution_count": 13,
   "metadata": {},
   "outputs": [],
   "source": [
    "def extract_text_from_url(url):\n",
    "   response = requests.get(url)\n",
    "   soup = BeautifulSoup(response.text,'html.parser')\n",
    "\n",
    "   for destroy in soup(['script','style']):\n",
    "      destroy.decompose()\n",
    "   \n",
    "   texto = soup.get_text(separator=\" \")\n",
    "   linhas = (line.strip() for line in texto.splitlines())\n",
    "   parts = (phrase.strip() for line in linhas for phrase in line.split(\"  \"))\n",
    "   texto_limpo = '\\n'.join(part for part in parts if part)\n",
    "\n",
    "   return texto_limpo\n",
    "   "
   ]
  },
  {
   "cell_type": "code",
   "execution_count": 14,
   "metadata": {},
   "outputs": [],
   "source": [
    "texto = extract_text_from_url(url)"
   ]
  },
  {
   "cell_type": "code",
   "execution_count": 15,
   "metadata": {},
   "outputs": [
    {
     "data": {
      "text/plain": [
       "'Beginner-Friendly Python Projects with Source Code - DEV Community\\nSkip to content\\nNavigation menu\\nSearch\\nPowered by\\nSearch\\nAlgolia\\nSearch\\nLog in\\nCreate account\\nDEV Community\\nClose\\nAdd reaction\\nLike\\nUnicorn\\nExploding Head\\nRaised Hands\\nFire\\nJump to Comments\\nSave\\nBoost\\nMore...\\nCopy link\\nCopy link\\nCopied to Clipboard\\nShare to X\\nShare to LinkedIn\\nShare to Facebook\\nShare to Mastodon\\nReport Abuse\\nNamubiru Rose\\nPosted on\\nNov 10\\nBeginner-Friendly Python Projects with Source Code\\n# webdev\\n# beginners\\n# python\\n# programming\\nIntroduction\\nStarting with beginner-friendly Python projects is an excellent way to solidify your understanding of coding fundamentals. As you work on these small projects, you’ll improve essential skills, including working with data types, managing user inputs, using conditionals, and handling basic logic. These projects are designed to be accessible to those new to programming and will help you practice Python concepts in a practical way. Below, we walk through five popular Python projects, complete with step-by-step guides and code examples.\\n1. Basic Calculator\\nWhy This Project?\\nA calculator is a foundational project that combines user input, function definitions, and basic arithmetic. It’s perfect for beginners, as it teaches core concepts like function usage and basic error handling (e.g., division by zero). This project also emphasizes reusable code, as each operation (add, subtract, etc.) can be separated into its own function.\\nProject Description:\\nThis calculator performs basic operations—addition, subtraction, multiplication, and division—based on user input.\\nStep-by-Step Guide:\\nDefine a function for each operation (addition, subtraction, etc.).\\nCreate the main function that takes user input for numbers and the type of operation.\\nHandle division by zero using a simple conditional check.\\nCall the appropriate function based on user input.\\nSource Code:\\ndef add(x, y):\\nreturn x + y\\ndef subtract(x, y):\\nreturn x - y\\ndef multiply(x, y):\\nreturn x * y\\ndef divide(x, y):\\nif y == 0:\\nreturn \"Error: Division by zero\"\\nreturn x / y\\ndef calculator():\\nprint(\"Select operation: 1. Add 2. Subtract 3. Multiply 4. Divide\")\\nchoice = input(\"Enter choice (1/2/3/4): \")\\nif choice in (\\'1\\', \\'2\\', \\'3\\', \\'4\\'):\\nnum1 = float(input(\"Enter first number: \"))\\nnum2 = float(input(\"Enter second number: \"))\\nif choice == \\'1\\':\\nprint(f\"Result: {add(num1, num2)}\")\\nelif choice == \\'2\\':\\nprint(f\"Result: {subtract(num1, num2)}\")\\nelif choice == \\'3\\':\\nprint(f\"Result: {multiply(num1, num2)}\")\\nelif choice == \\'4\\':\\nprint(f\"Result: {divide(num1, num2)}\")\\nelse:\\nprint(\"Invalid input\")\\ncalculator()\\nEnter fullscreen mode\\nExit fullscreen mode\\n2. To-Do List App\\nWhy This Project?\\nA to-do list application helps you practice data storage, loops, and conditionals. It\\'s also a simple introduction to creating a user interface in the console. By working with lists, you’ll learn how to manage multiple items and use loops to display and manipulate data.\\nProject Description:\\nCreate a basic to-do list where users can add, view, and delete tasks.\\nStep-by-Step Guide:\\nDefine a list to store tasks.\\nCreate functions to add, display, and delete tasks.\\nUse a loop to navigate the menu options and take user inputs for each action.\\nPrint the tasks in a numbered list for easy reference.\\nSource Code:\\ntasks = []\\ndef add_task():\\ntask = input(\"Enter a new task: \")\\ntasks.append(task)\\nprint(f\"Task \\'{task}\\' added.\")\\ndef view_tasks():\\nif not tasks:\\nprint(\"No tasks available.\")\\nelse:\\nfor i, task in enumerate(tasks, start=1):\\nprint(f\"{i}. {task}\")\\ndef delete_task():\\nview_tasks()\\ntry:\\ntask_num = int(input(\"Enter task number to delete: \")) - 1\\nremoved_task = tasks.pop(task_num)\\nprint(f\"Task \\'{removed_task}\\' deleted.\")\\nexcept (IndexError, ValueError):\\nprint(\"Invalid task number.\")\\ndef menu():\\nwhile True:\\nprint(\"\\\\n1. Add Task\\n2. View Tasks\\n3. Delete Task\\n4. Exit\")\\nchoice = input(\"Enter your choice: \")\\nif choice == \\'1\\':\\nadd_task()\\nelif choice == \\'2\\':\\nview_tasks()\\nelif choice == \\'3\\':\\ndelete_task()\\nelif choice == \\'4\\':\\nprint(\"Exiting To-Do List App.\")\\nbreak\\nelse:\\nprint(\"Invalid choice. Please try again.\")\\nmenu()\\nEnter fullscreen mode\\nExit fullscreen mode\\n3. Number Guessing Game\\nWhy This Project?\\nThe guessing game introduces you to loops, conditionals, and randomness. This project is perfect for understanding the basics of control flow and user interaction. It also teaches you to handle user feedback, which is essential for creating engaging programs.\\nProject Description:\\nIn this guessing game, the program randomly picks a number, and the player tries to guess it within a range.\\nStep-by-Step Guide:\\nUse the random module to generate a random number.\\nCreate a loop that allows the player to guess multiple times.\\nProvide feedback if the guess is too high or low.Display the number of attempts once the correct number is guessed.\\nSource Code:\\nimport random\\ndef guessing_game():\\nnumber_to_guess = random.randint(1, 100)\\nattempts = 0\\nprint(\"Guess the number between 1 and 100.\")\\nwhile True:\\nguess = int(input(\"Enter your guess: \"))\\nattempts += 1\\nif guess < number_to_guess:\\nprint(\"Too low!\")\\nelif guess > number_to_guess:\\nprint(\"Too high!\")\\nelse:\\nprint(f\"Congratulations! You\\'ve guessed the number in {attempts} attempts.\")\\nbreak\\nguessing_game()\\nEnter fullscreen mode\\nExit fullscreen mode\\n4. Simple Password Generator\\nWhy This Project?\\nGenerating a password is a good way to learn about string manipulation and randomness. This project helps you practice generating random sequences and strengthens your understanding of data types and user-defined functions.\\nProject Description:\\nThe password generator creates a random password from a mix of letters, digits, and symbols.\\nStep-by-Step Guide:\\nUse string and random modules to create a pool of characters.\\nCreate a function to randomly select characters for a user-defined password length.\\nOutput the generated password to the user.\\nSource Code:\\nimport string\\nimport random\\ndef generate_password(length):\\ncharacters = string.ascii_letters + string.digits + string.punctuation\\npassword = \\'\\'.join(random.choice(characters) for _ in range(length))\\nreturn password\\ndef password_generator():\\nlength = int(input(\"Enter password length: \"))\\npassword = generate_password(length)\\nprint(f\"Generated Password: {password}\")\\npassword_generator()\\nEnter fullscreen mode\\nExit fullscreen mode\\n5. Rock, Paper, Scissors Game\\nWhy This Project?\\nThis classic game enhances your skills with conditionals and randomness, as well as user input handling. It’s also a great introduction to game logic and writing functions to compare choices and determine the winner.\\nProject Description:\\nThis version of Rock, Paper, Scissors pits the player against the computer.\\nStep-by-Step Guide:\\nCreate a list of choices (rock, paper, scissors).\\nUse random.choice() for the computer’s move and input() for the player’s choice.\\nCompare choices to determine the winner.\\nDisplay the result and prompt to play again.\\nSource Code:\\nimport random\\ndef play_game():\\nchoices = [\"rock\", \"paper\", \"scissors\"]\\ncomputer_choice = random.choice(choices)\\nplayer_choice = input(\"Enter rock, paper, or scissors: \").lower()\\nif player_choice not in choices:\\nprint(\"Invalid choice. Please try again.\")\\nreturn\\nprint(f\"Computer chose: {computer_choice}\")\\nif player_choice == computer_choice:\\nprint(\"It\\'s a tie!\")\\nelif (player_choice == \"rock\" and computer_choice == \"scissors\") or \\\\\\n(player_choice == \"paper\" and computer_choice == \"rock\") or \\\\\\n(player_choice == \"scissors\" and computer_choice == \"paper\"):\\nprint(\"You win!\")\\nelse:\\nprint(\"You lose.\")\\nplay_game()\\nEnter fullscreen mode\\nExit fullscreen mode\\nConclusion\\nCompleting these beginner Python projects will give you hands-on experience with essential programming concepts and improve your confidence. Each project offers practical knowledge that can be expanded into more complex applications as your skills grow. Experiment with the code, add your own features, and see where your creativity takes you!\\nIf you have any questions about any project you can ask me.\\nTop comments\\n(0)\\nSubscribe\\nPersonal\\nTrusted User\\nCreate template\\nTemplates let you quickly answer FAQs or store snippets for re-use.\\nSubmit\\nPreview\\nDismiss\\nCode of Conduct\\n•\\nReport abuse\\nAre you sure you want to hide this comment? It will become hidden in your post, but will still be visible via the comment\\'s\\npermalink .\\nHide child comments as well\\nConfirm\\nFor further actions, you may consider blocking this person and/or\\nreporting abuse\\nRead next\\nPortfolio Update: A Fresh New Look & Enhanced Features!\\nIkram Kharbouch -\\nNov 17\\nConnecting LLM to a Real-World Robot\\nMukit, Ataul -\\nNov 17\\nI am making $700 monthly with my open-source scheduling tool - you can do it too! 🤯\\nNevo David -\\nNov 26\\nUsing curl-impersonate in Node.js to avoid blocks\\nMegan Lee -\\nNov 21\\nNamubiru Rose\\nFollow\\nReact developer || Web developer\\nLocation\\nKampala,Uganda\\nEducation\\nISBAT University\\nWork\\nWeb developer |React developer\\nJoined\\nOct 12, 2024\\nMore from\\nNamubiru Rose\\nThe \"Reimagine This Challenge\" – Push Your Creativity and Rebuild Classic Projects with a Twist!\\n# webdev\\n# beginners\\n# programming\\n# ai\\nHow to level up your backend skills\\n# webdev\\n# beginners\\n# python\\n# programming\\nChrome extensions I use as a developer\\n# webdev\\n# python\\n# learning\\n# programming\\nThank you to our Diamond Sponsor\\nNeon\\nfor supporting our community.\\nDEV Community\\n— A constructive and inclusive social network for software developers. With you every step of your journey.\\nHome\\nDEV++\\nPodcasts\\nVideos\\nTags\\nDEV Help\\nForem Shop\\nAdvertise on DEV\\nDEV Challenges\\nDEV Showcase\\nAbout\\nContact\\nFree Postgres Database\\nGuides\\nSoftware comparisons\\nCode of Conduct\\nPrivacy Policy\\nTerms of use\\nBuilt on\\nForem\\n— the\\nopen source\\nsoftware that powers\\nDEV\\nand other inclusive communities.\\nMade with love and\\nRuby on Rails . DEV Community\\n©\\n2016 - 2024.\\nWe\\'re a place where coders share, stay up-to-date and grow their careers.\\nLog in\\nCreate account'"
      ]
     },
     "execution_count": 15,
     "metadata": {},
     "output_type": "execute_result"
    }
   ],
   "source": [
    "texto"
   ]
  },
  {
   "cell_type": "markdown",
   "metadata": {},
   "source": [
    "### Traduzir via Azure OpenAI"
   ]
  },
  {
   "cell_type": "code",
   "execution_count": 23,
   "metadata": {},
   "outputs": [],
   "source": [
    "client = AzureChatOpenAI(\n",
    "   azure_endpoint=\"https://laboratoriochatapp.openai.azure.com/\",\n",
    "   api_key=\"979nUCFkX0tiT8qSiY5KhKiavpuTepGf54xVHgXLBNCq26LEcVtPJQQJ99AKACYeBjFXJ3w3AAABACOGSYP4\",\n",
    "   api_version=\"2024-02-15-preview\",\n",
    "   deployment_name = \"gpt-4o-mini\",\n",
    "   max_tokens=None,\n",
    "   max_retries=0\n",
    ")"
   ]
  },
  {
   "cell_type": "code",
   "execution_count": 19,
   "metadata": {},
   "outputs": [],
   "source": [
    "def translate_document(text, client):\n",
    "   message = [(\"system\", \"Você atua como tradutor de texto\"),\n",
    "              (\"user\",f\"Traduza o texto {text} e o edite em Markdown\")]\n",
    "   response = client.invoke(message)\n",
    "   return response.content\n"
   ]
  },
  {
   "cell_type": "code",
   "execution_count": 24,
   "metadata": {},
   "outputs": [],
   "source": [
    "traduzido = translate_document(texto, client)"
   ]
  },
  {
   "cell_type": "code",
   "execution_count": 25,
   "metadata": {},
   "outputs": [
    {
     "data": {
      "text/plain": [
       "'**Projetos de Python para Iniciantes com Código Fonte - DEV Community**\\n\\n**Introdução**\\nComeçar com projetos de Python amigáveis para iniciantes é uma excelente maneira de solidificar sua compreensão dos fundamentos da programação. Ao trabalhar nesses pequenos projetos, você melhorará habilidades essenciais, incluindo trabalho com tipos de dados, gerenciamento de entradas do usuário, uso de condicionais e manipulação de lógica básica. Esses projetos são projetados para serem acessíveis àqueles que são novos na programação e ajudarão você a praticar conceitos de Python de maneira prática. Abaixo, apresentamos cinco projetos populares de Python, completos com guias passo a passo e exemplos de código.\\n\\n**1. Calculadora Básica**\\n*Por que este projeto?*\\nUma calculadora é um projeto fundamental que combina entrada do usuário, definições de função e aritmética básica. É perfeito para iniciantes, pois ensina conceitos centrais como o uso de funções e manipulação básica de erros (por exemplo, divisão por zero). Este projeto também enfatiza o código reutilizável, já que cada operação (adição, subtração, etc.) pode ser separada em sua própria função.\\n\\n*Descrição do Projeto:*\\nEsta calculadora realiza operações básicas—adição, subtração, multiplicação e divisão—baseadas na entrada do usuário.\\n\\n*Guia Passo a Passo:*\\n1. Defina uma função para cada operação (adição, subtração, etc.).\\n2. Crie a função principal que recebe a entrada do usuário para os números e o tipo de operação.\\n3. Manipule a divisão por zero usando uma verificação condicional simples.\\n4. Chame a função apropriada com base na entrada do usuário.\\n\\n*Código Fonte:*\\n```python\\ndef add(x, y):\\n    return x + y\\n\\ndef subtract(x, y):\\n    return x - y\\n\\ndef multiply(x, y):\\n    return x * y\\n\\ndef divide(x, y):\\n    if y == 0:\\n        return \"Erro: Divisão por zero\"\\n    return x / y\\n\\ndef calculator():\\n    print(\"Selecione a operação: 1. Adicionar 2. Subtrair 3. Multiplicar 4. Dividir\")\\n    choice = input(\"Digite a escolha (1/2/3/4): \")\\n    if choice in (\\'1\\', \\'2\\', \\'3\\', \\'4\\'):\\n        num1 = float(input(\"Digite o primeiro número: \"))\\n        num2 = float(input(\"Digite o segundo número: \"))\\n        if choice == \\'1\\':\\n            print(f\"Resultado: {add(num1, num2)}\")\\n        elif choice == \\'2\\':\\n            print(f\"Resultado: {subtract(num1, num2)}\")\\n        elif choice == \\'3\\':\\n            print(f\"Resultado: {multiply(num1, num2)}\")\\n        elif choice == \\'4\\':\\n            print(f\"Resultado: {divide(num1, num2)}\")\\n    else:\\n        print(\"Entrada inválida\")\\ncalculator()\\n```\\n\\n**2. Aplicativo de Lista de Tarefas**\\n*Por que este projeto?*\\nUm aplicativo de lista de tarefas ajuda você a praticar armazenamento de dados, loops e condicionais. É também uma introdução simples à criação de uma interface de usuário no console. Ao trabalhar com listas, você aprenderá a gerenciar múltiplos itens e usar loops para exibir e manipular dados.\\n\\n*Descrição do Projeto:*\\nCrie uma lista de tarefas básica onde os usuários possam adicionar, visualizar e excluir tarefas.\\n\\n*Guia Passo a Passo:*\\n1. Defina uma lista para armazenar tarefas.\\n2. Crie funções para adicionar, exibir e excluir tarefas.\\n3. Use um loop para navegar pelas opções do menu e receber entradas do usuário para cada ação.\\n4. Imprima as tarefas em uma lista numerada para fácil referência.\\n\\n*Código Fonte:*\\n```python\\ntasks = []\\n\\ndef add_task():\\n    task = input(\"Digite uma nova tarefa: \")\\n    tasks.append(task)\\n    print(f\"Tarefa \\'{task}\\' adicionada.\")\\n\\ndef view_tasks():\\n    if not tasks:\\n        print(\"Nenhuma tarefa disponível.\")\\n    else:\\n        for i, task in enumerate(tasks, start=1):\\n            print(f\"{i}. {task}\")\\n\\ndef delete_task():\\n    view_tasks()\\n    try:\\n        task_num = int(input(\"Digite o número da tarefa a ser excluída: \")) - 1\\n        removed_task = tasks.pop(task_num)\\n        print(f\"Tarefa \\'{removed_task}\\' excluída.\")\\n    except (IndexError, ValueError):\\n        print(\"Número da tarefa inválido.\")\\n\\ndef menu():\\n    while True:\\n        print(\"\\\\n1. Adicionar Tarefa\\\\n2. Visualizar Tarefas\\\\n3. Excluir Tarefa\\\\n4. Sair\")\\n        choice = input(\"Digite sua escolha: \")\\n        if choice == \\'1\\':\\n            add_task()\\n        elif choice == \\'2\\':\\n            view_tasks()\\n        elif choice == \\'3\\':\\n            delete_task()\\n        elif choice == \\'4\\':\\n            print(\"Saindo do Aplicativo de Lista de Tarefas.\")\\n            break\\n        else:\\n            print(\"Escolha inválida. Por favor, tente novamente.\")\\nmenu()\\n```\\n\\n**3. Jogo de Adivinhação de Números**\\n*Por que este projeto?*\\nO jogo de adivinhação apresenta loops, condicionais e aleatoriedade. Este projeto é perfeito para entender os fundamentos do controle de fluxo e interação do usuário. Ele também ensina a lidar com o feedback do usuário, o que é essencial para criar programas envolventes.\\n\\n*Descrição do Projeto:*\\nNeste jogo de adivinhação, o programa escolhe um número aleatório e o jogador tenta adivinhá-lo dentro de um intervalo.\\n\\n*Guia Passo a Passo:*\\n1. Use o módulo random para gerar um número aleatório.\\n2. Crie um loop que permita ao jogador adivinhar várias vezes.\\n3. Forneça feedback se o palpite for muito alto ou baixo.\\n4. Exiba o número de tentativas assim que o número correto for adivinhado.\\n\\n*Código Fonte:*\\n```python\\nimport random\\n\\ndef guessing_game():\\n    number_to_guess = random.randint(1, 100)\\n    attempts = 0\\n    print(\"Adivinhe o número entre 1 e 100.\")\\n    while True:\\n        guess = int(input(\"Digite seu palpite: \"))\\n        attempts += 1\\n        if guess < number_to_guess:\\n            print(\"Muito baixo!\")\\n        elif guess > number_to_guess:\\n            print(\"Muito alto!\")\\n        else:\\n            print(f\"Parabéns! Você adivinhou o número em {attempts} tentativas.\")\\n            break\\nguessing_game()\\n```\\n\\n**4. Gerador de Senhas Simples**\\n*Por que este projeto?*\\nGerar uma senha é uma boa maneira de aprender sobre manipulação de strings e aleatoriedade. Este projeto ajuda você a praticar a geração de sequências aleatórias e fortalece sua compreensão de tipos de dados e funções definidas pelo usuário.\\n\\n*Descrição do Projeto:*\\nO gerador de senhas cria uma senha aleatória a partir de uma mistura de letras, dígitos e símbolos.\\n\\n*Guia Passo a Passo:*\\n1. Use os módulos string e random para criar um conjunto de caracteres.\\n2. Crie uma função para selecionar aleatoriamente caracteres para um comprimento de senha definido pelo usuário.\\n3. Exiba a senha gerada para o usuário.\\n\\n*Código Fonte:*\\n```python\\nimport string\\nimport random\\n\\ndef generate_password(length):\\n    characters = string.ascii_letters + string.digits + string.punctuation\\n    password = \\'\\'.join(random.choice(characters) for _ in range(length))\\n    return password\\n\\ndef password_generator():\\n    length = int(input(\"Digite o comprimento da senha: \"))\\n    password = generate_password(length)\\n    print(f\"Senha gerada: {password}\")\\npassword_generator()\\n```\\n\\n**5. Jogo de Pedra, Papel e Tesoura**\\n*Por que este projeto?*\\nEste jogo clássico aprimora suas habilidades com condicionais e aleatoriedade, além de manipulação de entrada do usuário. É também uma ótima introdução à lógica de jogos e à escrita de funções para comparar escolhas e determinar o vencedor.\\n\\n*Descrição do Projeto:*\\nEsta versão de Pedra, Papel e Tesoura coloca o jogador contra o computador.\\n\\n*Guia Passo a Passo:*\\n1. Crie uma lista de escolhas (pedra, papel, tesoura).\\n2. Use random.choice() para o movimento do computador e input() para a escolha do jogador.\\n3. Compare as escolhas para determinar o vencedor.\\n4. Exiba o resultado e pergunte se deseja jogar novamente.\\n\\n*Código Fonte:*\\n```python\\nimport random\\n\\ndef play_game():\\n    choices = [\"pedra\", \"papel\", \"tesoura\"]\\n    computer_choice = random.choice(choices)\\n    player_choice = input(\"Digite pedra, papel ou tesoura: \").lower()\\n    if player_choice not in choices:\\n        print(\"Escolha inválida. Por favor, tente novamente.\")\\n        return\\n    print(f\"O computador escolheu: {computer_choice}\")\\n    if player_choice == computer_choice:\\n        print(\"Empate!\")\\n    elif (player_choice == \"pedra\" and computer_choice == \"tesoura\") or \\\\\\n         (player_choice == \"papel\" and computer_choice == \"pedra\") or \\\\\\n         (player_choice == \"tesoura\" and computer_choice == \"papel\"):\\n        print(\"Você ganhou!\")\\n    else:\\n        print(\"Você perdeu.\")\\nplay_game()\\n```\\n\\n**Conclusão**\\nCompletar esses projetos iniciais de Python fornecerá experiência prática com conceitos essenciais de programação e melhorará sua confiança. Cada projeto oferece conhecimento prático que pode ser expandido em aplicações mais complexas à medida que suas habilidades crescem. Experimente o código, adicione seus próprios recursos e veja aonde sua criatividade o leva!\\n\\nSe você tiver alguma dúvida sobre qualquer projeto, pode me perguntar.'"
      ]
     },
     "execution_count": 25,
     "metadata": {},
     "output_type": "execute_result"
    }
   ],
   "source": [
    "traduzido"
   ]
  },
  {
   "cell_type": "code",
   "execution_count": null,
   "metadata": {},
   "outputs": [],
   "source": []
  }
 ],
 "metadata": {
  "kernelspec": {
   "display_name": "Python 3",
   "language": "python",
   "name": "python3"
  },
  "language_info": {
   "codemirror_mode": {
    "name": "ipython",
    "version": 3
   },
   "file_extension": ".py",
   "mimetype": "text/x-python",
   "name": "python",
   "nbconvert_exporter": "python",
   "pygments_lexer": "ipython3",
   "version": "3.11.5"
  }
 },
 "nbformat": 4,
 "nbformat_minor": 2
}
